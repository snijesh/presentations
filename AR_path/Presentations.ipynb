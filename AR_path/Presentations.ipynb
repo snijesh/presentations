{
 "cells": [
  {
   "cell_type": "code",
   "execution_count": null,
   "id": "769ca413",
   "metadata": {},
   "outputs": [],
   "source": []
  },
  {
   "cell_type": "markdown",
   "id": "17fa3fa6",
   "metadata": {},
   "source": [
    "**Dingxie Liu**<br>\n",
    "Division of Endocrinology, Diabetes & Metabolism, Department of Medicine, <br> Johns Hopkins University School of Medicine,\n",
    "Baltimore, MD 21287, USA\n",
    "\n",
    "\n",
    "[Identification of a prognostic LncRNA signature for ER-positive, ER-negative and triple-negative breast cancers](https://pubmed.ncbi.nlm.nih.gov/32601968/)\n",
    "<br><br>\n",
    "[Concomitant dysregulation of the estrogen receptor and BRAF/MEK signaling pathways is common in colorectal cancer and predicts a worse prognosis](https://pubmed.ncbi.nlm.nih.gov/30645729/)<br><br>\n",
    "[Gene signatures of estrogen and progesterone receptor pathways predict the prognosis of colorectal cancer](https://pubmed.ncbi.nlm.nih.gov/27376509/)\n",
    "<br><br>\n",
    "[PubMed](https://pubmed.ncbi.nlm.nih.gov/?cmd=search&term=Dingxie%20Liu)<br><br>\n",
    "[Orchid](https://orcid.org/0000-0002-8061-5704)<br>"
   ]
  },
  {
   "cell_type": "code",
   "execution_count": null,
   "id": "8d3af9c3",
   "metadata": {},
   "outputs": [],
   "source": []
  },
  {
   "cell_type": "markdown",
   "id": "a860a3c8",
   "metadata": {},
   "source": [
    "- Androgen receptor (AR) antagonists are currently tested in multiple clinical trials for different breast cancer (BC)\n",
    "subtypes\n",
    "- AR expression was associated with a favorable prognosis in ER-positive BC\n",
    "- The true biological effect of AR signaling in BC is not clear"
   ]
  },
  {
   "cell_type": "markdown",
   "id": "acbe6911",
   "metadata": {},
   "source": [
    "**Methods**\n",
    "- An AR pathway signature was generated to compute AR pathway activity in BCs (n = 6439) from 46 microarray datasets.\n",
    "- Associations of AR pathway activity and AR expression with BC prognosis were compared by survival analysis"
   ]
  },
  {
   "cell_type": "markdown",
   "id": "2b027aac",
   "metadata": {},
   "source": [
    "**Results:**\n",
    "- AR pathway activity showed moderate positive and negative correlations with AR expression in HER2-positive and HER2-negative BCs, respectively.\n",
    "\n",
    "- AR pathway activity increased while AR expression decreased in ER-negative BCs.\n",
    "\n",
    "**Conclusions:**\n",
    "Our findings encourage the continued evaluation of AR antagonists for BC treatment and support that AR pathway\n",
    "activity serves as a better prognostic factor than AR expression in BC."
   ]
  },
  {
   "cell_type": "markdown",
   "id": "c84aa534",
   "metadata": {},
   "source": []
  },
  {
   "cell_type": "markdown",
   "id": "3acde3a1",
   "metadata": {},
   "source": [
    "**Known Keys:**\n",
    "    \n",
    "- The AR is expressed in 60–80% of BCs, and its expression varies among subtypes <br><br>\n",
    "- Approximately 90% of ERpositive BCs express AR, while only 40% of ER-negative BCs are AR-positive <br><br>\n",
    "- AR expression has also been found to induce resistance to both tamoxifen and aromatase inhibitors (AI) in ER-positive BC cells, and treatment with anti-androgens has resulted in reversal of this resistance. <br><br>\n"
   ]
  },
  {
   "cell_type": "code",
   "execution_count": null,
   "id": "fdb95c96",
   "metadata": {},
   "outputs": [],
   "source": []
  },
  {
   "cell_type": "markdown",
   "id": "923158b3",
   "metadata": {},
   "source": [
    "Currently, AR-positive status, which is detected by immunohistochemical (IHC) staining, is used as a biomarker for enrollment of BC patients in clinical trials for AR-targeted therapy.\n",
    "\n",
    "However, the minimum percentage of cells positive for nuclear AR that should be considered as AR positive is still controversial.\n",
    "In addition, there are no sufficient data to ascertain how well AR IHC results will correlate with measures of AR dependency and response to AR targeted therapy.\n",
    "As studies showed that AR expression did not correlate well with actual AR pathway activity, we asked whether AR pathway activity may be a better prognostic or predictive factor than AR expression in BC"
   ]
  },
  {
   "cell_type": "code",
   "execution_count": null,
   "id": "4fee75e7",
   "metadata": {},
   "outputs": [],
   "source": []
  },
  {
   "cell_type": "markdown",
   "id": "00bce488",
   "metadata": {},
   "source": [
    "### Materials and Methods\n",
    "1. **Affymetrix microarray datasets (GEO)**\n",
    "- More than 50 samples in the datasets.\n",
    "   - Found 42 publicly available dataset\n",
    "     -  30 datasets contained cancer recurrence information\n",
    "     -  15 datasets contained neoadjuvant response information (3 datasets contained both)\n",
    "\n",
    "\n",
    "2. **Merging of BC datasets into four patient cohorts**\n",
    "- Merged datasets into four cohorts.\n",
    "  - Cohort 1: 15 datasets that contained patient neoadjuvant response information.\n",
    "  - Cohort 2: 16 datasets for which distant metastasis-free survival (DMFS) information was available.\n",
    "  - Cohort 3: 8 datasets for which only relapse-free survival (RFS) information was available.\n",
    "  - Cohort 4: 6 datasets that contained either RFS or DMFS information (these datasets have ashort follow-up time)\n",
    "  \n",
    "3. AR Pathway signature\n",
    "- Dataset GSE11428 was used as training set with LNCaP-abl cells treated with AR-specific siRNA as `pathway off`\n",
    "- LNCaP-abl cells treated with scrambled siRNA or vehicle as `pathway on`\n",
    "\n",
    "4. Statistics\n",
    "- Odds-ratios (OR) for the associations of clinical features with risk scores were calculated using logistic regression.\n",
    "- Cox proportional hazards regression and Kaplan-Meier survival curves with log-rank test were used to analyze associations between risk scores and disease-free survival (DFS).\n",
    "\n",
    "5. Receptor Status:\n",
    "- The ER, PR and HER2 statuses of these BC samples were determined using IHC\n",
    "\n",
    "For the patient cohorts that were merged from multiple individual datasets, the DFS time was censored at 8 years for cohort 2 and cohort 3, and at 5 years for cohort 4 since the datasets in this latter cohort contained shorter follow-up times"
   ]
  },
  {
   "attachments": {},
   "cell_type": "markdown",
   "id": "f254de8a",
   "metadata": {},
   "source": [
    "### Results\n",
    "Through analysis of gene expression patterns of `LNCaPabl` cells treated with an AR-specific siRNA `(pathway “off”)` and cells with scrambled siRNA or vehicle `(pathway “on”)` by BinReg approach, \n",
    "\n",
    "- Using, `BinReg` approach, `100-probeset` expression signature for the `AR pathway` was generated.\n",
    "\n",
    "- Among the 100 gene probesets, two probesets for AR genes `(211110_s_at` and `211621_at)` had the highest positive weight.\n",
    "\n",
    "- That suggest AR expression level is most important positive factor for cellular pathway activity.\n",
    "\n",
    "\n",
    "![image.png](ar_train_validation.png)\n",
    "\n",
    "\n",
    "\n",
    "\n",
    "Fig. 1 Generation and validation of gene signatures for the AR pathway. \n",
    "- (a) Validation of the AR pathway signature in multiple cancer cell lines. Part of dataset GSE11428 was used as a training set. LNCaP-abl cells treated with AR-specific siRNA were set as AR pathway ‘off’, while LNCaP-abl cells treated with scrambled siRNA or vehicle as AR pathway ‘on’. The generated signature was then applied for prediction of AR pathway activity in the following validation sets:\n",
    "  - (1) LNCaP cells treated with scrambled or AR-specific siRNA (GSE11428);\n",
    "  - (2) Prostate cancer cell line VCaP treated with small molecule AR inhibitor (compound 30 or AR-siRNA (GSE32892); \n",
    "  - (3) AR-transfected PC3 cells treated with or without synthetic androgen methyltrienolone R1881 (GSE15091); and\n",
    "  - (4) AR-positive T47D cells and AR-negative MDA-MB-231 BC cells treated with or without testosterone (T) or testosterone-BSA (T-BSA) (GSE18146). (b and c) Validation of AR pathway signature in clinical BC samples (GSE1561).\n",
    "\n",
    "- The predicted AR pathway activities were compared among BCs with different apocrine histologic scores (b) or between MABC and non-MABC (c). Each dot represents one sample and the red crossbar represents mean ± S"
   ]
  },
  {
   "attachments": {},
   "cell_type": "markdown",
   "id": "7acc71da",
   "metadata": {},
   "source": [
    "#### 3.2 AR expression is decreased while AR pathway activity is increased in ER-negative BC\n",
    "\n",
    "- AR pathway activity in four BC datasets\n",
    "- The ER and PR pathway activities predicted by corresponding signatures were used as positive control\n",
    "\n",
    "\n",
    "**`Upregulation of the AR pathway in BC was consistently observed among the four individual datasets and was more significant\n",
    "than upregulation of the ER and PR pathways in BC`**\n",
    "\n",
    "**`in contrast, AR mRNA level showed a moderate decrease in BC`**\n",
    "\n",
    "![image.png](er_negative.png)"
   ]
  },
  {
   "attachments": {},
   "cell_type": "markdown",
   "id": "56557ce7",
   "metadata": {},
   "source": [
    "**Associations of AR, ER and PR pathway activities with the immunohistochemistry (IHC) status of ER, PR and HER2 in BC**\n",
    "![image.png](ar_pathway_activity_subtypes.png)"
   ]
  },
  {
   "cell_type": "markdown",
   "id": "11bc808d",
   "metadata": {},
   "source": [
    "**Figure: Associations of AR expression with the IHC status of ER, PR and HER2 in BC**\n",
    "![image.png](ar_mrna_level.png)"
   ]
  },
  {
   "cell_type": "markdown",
   "id": "a676224b",
   "metadata": {},
   "source": []
  },
  {
   "cell_type": "markdown",
   "id": "bfebc88a",
   "metadata": {},
   "source": []
  },
  {
   "cell_type": "markdown",
   "id": "dd013716",
   "metadata": {},
   "source": [
    "### AR pathway activity correlates positively with AR expression in HER2-positive BC but negatively in HER2-negative BC"
   ]
  },
  {
   "cell_type": "markdown",
   "id": "921a7940",
   "metadata": {},
   "source": [
    "- Both AR pathway activities and AR mRNA levels showed moderate increases in HER2-positive BCs\n",
    "- Previously it has been reported that AR expression is positively associated with overexpression of HER2 in ER-negative but not ER-positive BC\n",
    "- no such association was observed for AR pathway activity"
   ]
  },
  {
   "attachments": {},
   "cell_type": "markdown",
   "id": "3b69672e",
   "metadata": {},
   "source": [
    "**Figure: Associations of AR, ER and PR pathway activities with the immunohistochemistry (IHC) status of ER, PR and HER2 in BC. A) BC cohort 1. B) BC cohort 2. C) BC cohort 3. D) BC cohort 4**\n",
    "\n",
    "\n",
    "![image-2.png](ar_pathway_activity_subtypes.png)"
   ]
  },
  {
   "cell_type": "code",
   "execution_count": null,
   "id": "13ef2c57",
   "metadata": {},
   "outputs": [],
   "source": []
  },
  {
   "attachments": {},
   "cell_type": "markdown",
   "id": "03c6df4f",
   "metadata": {},
   "source": [
    "AR expression is upregulated in HER2-positive/ER-negative but not HER2-positive/ER-positive BC\n",
    "\n",
    "AR pathway activity.\n",
    "![image.png](ar_her2_er.png)"
   ]
  },
  {
   "cell_type": "code",
   "execution_count": null,
   "id": "831bac83",
   "metadata": {},
   "outputs": [],
   "source": []
  },
  {
   "attachments": {},
   "cell_type": "markdown",
   "id": "79454a02",
   "metadata": {},
   "source": [
    "Figure: AR pathway activity correlates with AR expression in a HER2- dependent manner in BC. \n",
    "- (a) Correlation between AR pathway activity and AR probeset 211621_at in four BC cohorts.\n",
    "- (b) Correlation between AR pathway activity and AR probeset 211110_s_at in four BC cohorts. Pearson correlation analysis was performed in all BC samples or BCs with different ER, PR and HER2 expression statuses as indicated. The four BC cohorts were merged from 42 Affymetrix microarray datasets as described in Materials and methods.\n",
    "- (c) Correlation of AR pathway activity with AR probesets 211621_at and 211110_s_at in unmerged individual BC datasets. In the 42 individual BC datasets, Pearson correlation analysis was performed only in the datasets containing ≥ 30 HER2-negative or ≥ 30 HER2-positive samples.\n",
    "![image.png](pearson_correlation.png)"
   ]
  },
  {
   "cell_type": "code",
   "execution_count": null,
   "id": "f96579f3",
   "metadata": {},
   "outputs": [],
   "source": []
  },
  {
   "cell_type": "markdown",
   "id": "2ba72723",
   "metadata": {},
   "source": [
    "**Figure: Associations of AR expression with the IHC status of ER, PR and HER2 in BC**."
   ]
  },
  {
   "cell_type": "code",
   "execution_count": null,
   "id": "3922770f",
   "metadata": {},
   "outputs": [],
   "source": []
  },
  {
   "attachments": {},
   "cell_type": "markdown",
   "id": "405ad48d",
   "metadata": {},
   "source": [
    "![image.png](s12.png)"
   ]
  },
  {
   "cell_type": "code",
   "execution_count": null,
   "id": "3e5cf2fa",
   "metadata": {},
   "outputs": [],
   "source": []
  },
  {
   "cell_type": "code",
   "execution_count": null,
   "id": "505e6cb5",
   "metadata": {},
   "outputs": [],
   "source": []
  },
  {
   "cell_type": "code",
   "execution_count": null,
   "id": "a3610c70",
   "metadata": {},
   "outputs": [],
   "source": []
  },
  {
   "cell_type": "code",
   "execution_count": null,
   "id": "0cc48e6c",
   "metadata": {},
   "outputs": [],
   "source": []
  },
  {
   "cell_type": "code",
   "execution_count": null,
   "id": "ddaacf5c",
   "metadata": {},
   "outputs": [],
   "source": []
  },
  {
   "cell_type": "code",
   "execution_count": null,
   "id": "d6379be7",
   "metadata": {},
   "outputs": [],
   "source": []
  },
  {
   "cell_type": "code",
   "execution_count": null,
   "id": "67374135",
   "metadata": {},
   "outputs": [],
   "source": []
  }
 ],
 "metadata": {
  "kernelspec": {
   "display_name": "Python 3",
   "language": "python",
   "name": "python3"
  },
  "language_info": {
   "codemirror_mode": {
    "name": "ipython",
    "version": 3
   },
   "file_extension": ".py",
   "mimetype": "text/x-python",
   "name": "python",
   "nbconvert_exporter": "python",
   "pygments_lexer": "ipython3",
   "version": "3.8.8"
  }
 },
 "nbformat": 4,
 "nbformat_minor": 5
}
