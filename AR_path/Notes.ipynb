{
 "cells": [
  {
   "cell_type": "code",
   "execution_count": null,
   "id": "d06aefa8",
   "metadata": {},
   "outputs": [],
   "source": []
  },
  {
   "cell_type": "markdown",
   "id": "2b212c2e",
   "metadata": {},
   "source": [
    "An agonist is a drug that binds to the receptor, producing a similar response to the intended chemical and receptor. Whereas an antagonist is a drug that binds to the receptor either on the primary site, or on another site, which all together stops the receptor from producing a response."
   ]
  },
  {
   "cell_type": "code",
   "execution_count": null,
   "id": "1ec6ca4a",
   "metadata": {},
   "outputs": [],
   "source": []
  },
  {
   "cell_type": "markdown",
   "id": "95592513",
   "metadata": {},
   "source": [
    "Two major approaches, gene set enrichment analysis (GSEA) and Bayesian binary regression (BinReg), have been developed to evaluate pathway activity based on this theory [27, 28].\n",
    "\n",
    "In GSEA, a set of genes that cluster within a given pathway was used as signature and the pathway variation is assessed by whether the set of genes shows statistically significant, concordant differences between two groups of samples [27].\n",
    "\n",
    "As genes in a gene set can be either positive or negative modulators of the given pathway, GSEA cannot provide a quantitative measure of pathway activity. \n",
    "\n",
    "By contrast, in BinReg approach, the signature genes for a given pathway are derived from the differently expressed genes between two groups of samples treated with or without the activator (or inhibitor) of the pathway, and the impact of each of these signature genes on the pathway was weighted.\n",
    "\n",
    "Computing the weighted expression levels of these signature genes in an unknown sample by this approach will thus be able to produce semiquantitative value for the given pathway activity in that sample [28, 29]."
   ]
  },
  {
   "cell_type": "markdown",
   "id": "143f11bd",
   "metadata": {},
   "source": [
    "Briefly, the signature genes of a given pathway (pathway-specific informative genes) and their regression weights were obtained through principal component analysis of the gene expression patterns of two training sample sets (one set with pathway being “on” and the other with pathway being “off”). To predict the pathway activity for a new sample, the binary regression on the principal components was applied to the gene expression profile of that sample after which a probability score (scaled to 0–1, used to represent the relative pathway activity) for the sample was generated."
   ]
  },
  {
   "cell_type": "markdown",
   "id": "4d69fafa",
   "metadata": {},
   "source": [
    "#### What Is Z-Test?\n",
    "A z-test is a statistical test used to determine whether two population means are different when the variances are known and the sample size is large. The test statistic is assumed to have a normal distribution, and nuisance parameters such as standard deviation should be known in order for an accurate z-test to be performed."
   ]
  },
  {
   "cell_type": "code",
   "execution_count": null,
   "id": "c22fcef5",
   "metadata": {},
   "outputs": [],
   "source": []
  },
  {
   "cell_type": "code",
   "execution_count": null,
   "id": "0247d9c8",
   "metadata": {},
   "outputs": [],
   "source": []
  },
  {
   "cell_type": "code",
   "execution_count": null,
   "id": "f2b90432",
   "metadata": {},
   "outputs": [],
   "source": []
  }
 ],
 "metadata": {
  "kernelspec": {
   "display_name": "Python 3",
   "language": "python",
   "name": "python3"
  },
  "language_info": {
   "codemirror_mode": {
    "name": "ipython",
    "version": 3
   },
   "file_extension": ".py",
   "mimetype": "text/x-python",
   "name": "python",
   "nbconvert_exporter": "python",
   "pygments_lexer": "ipython3",
   "version": "3.8.8"
  }
 },
 "nbformat": 4,
 "nbformat_minor": 5
}
