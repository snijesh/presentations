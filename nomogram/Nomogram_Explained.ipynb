{
 "cells": [
  {
   "cell_type": "code",
   "execution_count": null,
   "metadata": {},
   "outputs": [],
   "source": []
  },
  {
   "cell_type": "code",
   "execution_count": null,
   "metadata": {},
   "outputs": [],
   "source": []
  },
  {
   "cell_type": "markdown",
   "metadata": {},
   "source": [
    "### Nomogram\n",
    "A nomogram, also called a nomograph, alignment chart, or abaque, is a graphical calculating device, a two-dimensional diagram designed to allow the approximate graphical computation of a mathematical function. <br>\n",
    "\n",
    "- The field of nomography was invented in 1884 by the French engineer Philbert Maurice d'Ocagne <br><br>\n",
    "\n",
    "- A nomogram consists of a set of n scales, one for each variable in an equation. <br><br>\n",
    "- Knowing the values of n-1 variables, the value of the unknown variable can be found, or by fixing the values of some variables, the relationship between the unfixed ones can be studied. <br><br>\n",
    "- The result is obtained by laying a straightedge across the known values on the scales and reading the unknown value from where it crosses the scale for that variable.<br><br>\n",
    "- The virtual or drawn line created by the straightedge is called an index line or isopleth"
   ]
  },
  {
   "cell_type": "markdown",
   "metadata": {},
   "source": [
    "<img src='nomogram_scale.png'>"
   ]
  },
  {
   "cell_type": "markdown",
   "metadata": {},
   "source": [
    "A nomogram for a three-variable equation typically has three scales, although there exist nomograms in which two or even all three scales are common. Here two scales represent known values and the third is the scale where the result is read off.\n",
    "The simplest such equation is u1 + u2 + u3 = 0 for the three variables u1, u2 and u3"
   ]
  },
  {
   "cell_type": "markdown",
   "metadata": {},
   "source": [
    "<img src='nomogram_components.png'>"
   ]
  },
  {
   "cell_type": "markdown",
   "metadata": {},
   "source": [
    "### Simple-to-use nomogram for evaluating the incident risk of moderate-to-severe LeAD in adults with type 2 diabetes: A cross-sectional study in a chinese population"
   ]
  },
  {
   "cell_type": "markdown",
   "metadata": {},
   "source": [
    "Journal Name : **Nature Scientific Reports** <br>\n",
    "Authors: **Xin Zhao, Xiaomei Zhang, Xingwu Ran, Zhangrong Xu & Linong Ji**<br>\n",
    "\n",
    "\n",
    "Department of Endocrinology, Peking University International Hospital, Beijing, 100001, China.<br>\n",
    "Department of Endocrinology, West China Hospital, Sichuan University, Sichuan, 610041, China.<br>\n",
    "Diabetes Center, Department of Endocrinology, The 306th Hospital of PLA, Beijing, 100001, China.<br>\n",
    "Department of Endocrinology, Peking University People’s Hospital, Beijing, 100001, China.<br>"
   ]
  },
  {
   "cell_type": "markdown",
   "metadata": {},
   "source": [
    "**Aim**<br>\n",
    "This study aimed to analyze the clinical characteristics of lower extremity atherosclerotic disease (LEAD) in Chinese adult type 2 diabetes (T2D) patients, and also explored the risk factors for LEAD and developed simple-to-use nomograms for LeAD and lesion degree in these patient"
   ]
  },
  {
   "cell_type": "markdown",
   "metadata": {},
   "source": [
    "- Retrospectively studied `4422` patients (`male=2084`; `female= 2338`) with `T2D` who were `≥50`. <br><br>\n",
    "- Based on lower extremity arterial ultrasound findings, we divided the patients into three groups: `normal`, `mild`, and `moderateto-severe` group <br><br>\n",
    "- The `normal`, `mild LEAD`, and `moderate-to-severe LEAD` groups consisted of `1779`, `1242`, and `1401` patients, respectively "
   ]
  },
  {
   "cell_type": "markdown",
   "metadata": {},
   "source": [
    "<img src = table1.png>"
   ]
  },
  {
   "cell_type": "markdown",
   "metadata": {},
   "source": [
    "**Table 1**: Comparison of general baseline characteristics among the three patient groups.<br>\n",
    "BMI, body mass index; SBP, systolic blood pressure; DBP, diastolic blood pressure, HbA1c, glycosylated hemoglobin; TC, total\n",
    "cholesterol; TG, triglyceride; LDL-C, low-density lipoprotein cholesterol; HDL-C, high-density lipoprotein\n",
    "cholesterol; UA, uric acid; BUN, blood urea nitrogen; eGFR, estimated glomerular filtration rate; CHD,\n",
    "coronary heart disease; CBD, cerebrovascular disease."
   ]
  },
  {
   "cell_type": "markdown",
   "metadata": {},
   "source": [
    "#### Analysis of risk factors for LeAD and moderate-to-severe LeAD."
   ]
  },
  {
   "cell_type": "markdown",
   "metadata": {},
   "source": [
    "`Multicollinearity analysis` was used for univariate logistic regression analysis of patients’ baseline characteristics (age, gender, diabetes duration, smoking, HbA1c, CHD, CBD, diabetic nephropathy, diabetic retinopathy, and diabetic neuropathy). <br><br>\n",
    "No collinearity was identified among the factors, and the variance inflation factor (VIF) was <5 for all factors."
   ]
  },
  {
   "cell_type": "markdown",
   "metadata": {},
   "source": [
    "`Multivariate logistic regression` analysis was performed with LEAD as a dependent variable and baseline characteristics (age, gender, diabetic duration, smoking, HbA1c, CHD, CBD, diabetic nephropathy, diabetic retinopathy, and diabetic neuropathy) as independent variables. <br>\n",
    "\n",
    "The risk factors for LEAD included:<br>\n",
    "male gender(OR=1.87, 95CI% 1.57–2.29),<br>\n",
    "advanced age (OR =1.02 95CI% 1.01–1.03),<br>\n",
    "longer diabetic duration (OR =1.03 95CI% 1.02–1.03),<br>\n",
    "smoking (OR = 1.12 95CI% 1.07–1.19),<br>\n",
    "higher HbA1c level (OR = 1.02 95CI% 1.01–1.03 CHD (OR = 1.38 95CI% 1.07–1.79),<br>\n",
    "diabetic nephropathy (OR = 1.50 95CI% 1.20–1.88),<br>\n",
    "diabetic neuropathy (OR = 2.10 95CI% 1.76–2.51),<br>\n",
    "and diabetic retinopathy (OR = 2.64 95CI% 2.11–2.90).<br>\n",
    "These data indicate associations with the risk of LEAD in patients with T2D after adjustment for BMI, blood pressure (BP), lipid levels, and eGFR (Table 2)."
   ]
  },
  {
   "cell_type": "markdown",
   "metadata": {},
   "source": [
    "**Multivariate logistic regression analysis for risk of LEAD**\n",
    "<br>\n",
    "CHD, coronary heart disease; CBD, cerebrovascular disease.<br>\n",
    "Model 1 is adjusted for BMI, and <br> Model 2 is adjusted for BMI, BP, TC, TG, LDLC, HDL-C, and eGFR.\n",
    "<img src='table2.PNG'>"
   ]
  },
  {
   "cell_type": "code",
   "execution_count": null,
   "metadata": {},
   "outputs": [],
   "source": []
  },
  {
   "cell_type": "markdown",
   "metadata": {},
   "source": [
    "**Multivariate logistic regression analysis for risk of moderate-to-severe LEAD.** <br>\n",
    "CHD, coronary heart disease; CBD, cerebrovascular disease. <br>\n",
    "Model 1 is adjusted for BMI, and <br> Model 2 is adjusted for BMI, BP, TC, TG, LDL-C, HDL-C, and eGFR.\n",
    "<img src='table3.png'>"
   ]
  },
  {
   "cell_type": "markdown",
   "metadata": {},
   "source": [
    "#### Predictive accuracy of nomograms for LEAD and moderate-to-severe LEAD in T2D patients."
   ]
  },
  {
   "cell_type": "markdown",
   "metadata": {},
   "source": [
    "**Nomogram for LEAD in patients with T2D**\n",
    "<img src ='figure1.PNG'>\n",
    "\n",
    "\n",
    "**Accuracy**\n",
    "The overall predictive accuracy of the nomogram for LEAD was 0.793 (95%CI 0.720, 0.824), and the sensitivity and specificity were 0.619 and 0.849, respectively."
   ]
  },
  {
   "cell_type": "code",
   "execution_count": null,
   "metadata": {},
   "outputs": [],
   "source": []
  },
  {
   "cell_type": "markdown",
   "metadata": {},
   "source": [
    "**Nomogram for moderate-to-severe LEAD in patients with T2D LEAD**\n",
    "<img src ='figure2.PNG'>\n",
    "\n",
    "<br>\n",
    "**Accuracy** The overall predictive accuracy of the nomogram for moderate-to-severe LEAD was 0.736 (95%CI 0.678, 0.795), and the sensitivity and specificity were 0.792 and 0.60, respectively."
   ]
  },
  {
   "cell_type": "code",
   "execution_count": null,
   "metadata": {},
   "outputs": [],
   "source": []
  },
  {
   "cell_type": "markdown",
   "metadata": {},
   "source": [
    "**interpretation**\n",
    "\n",
    "<img src ='figure_example.png'>"
   ]
  },
  {
   "cell_type": "code",
   "execution_count": null,
   "metadata": {},
   "outputs": [],
   "source": []
  },
  {
   "cell_type": "code",
   "execution_count": null,
   "metadata": {},
   "outputs": [],
   "source": []
  },
  {
   "cell_type": "markdown",
   "metadata": {},
   "source": []
  },
  {
   "cell_type": "code",
   "execution_count": null,
   "metadata": {},
   "outputs": [],
   "source": []
  }
 ],
 "metadata": {
  "kernelspec": {
   "display_name": "Python 3",
   "language": "python",
   "name": "python3"
  },
  "language_info": {
   "codemirror_mode": {
    "name": "ipython",
    "version": 3
   },
   "file_extension": ".py",
   "mimetype": "text/x-python",
   "name": "python",
   "nbconvert_exporter": "python",
   "pygments_lexer": "ipython3",
   "version": "3.7.4"
  }
 },
 "nbformat": 4,
 "nbformat_minor": 2
}
