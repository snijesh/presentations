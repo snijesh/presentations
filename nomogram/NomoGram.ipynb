{
 "cells": [
  {
   "cell_type": "markdown",
   "metadata": {},
   "source": [
    "### Simple-to-use nomogram for evaluating the incident risk of moderate-to-severe LeAD in adults with type 2 diabetes: A cross-sectional study in a chinese population"
   ]
  },
  {
   "cell_type": "markdown",
   "metadata": {},
   "source": [
    "This study aimed to analyze the clinical characteristics of lower extremity atherosclerotic disease (LEAD) in Chinese adult type 2 diabetes (T2D) patients, and also explored the risk factors for LEAD and developed simple-to-use nomograms for LeAD and lesion degree in these patients. We retrospectively studied 4422 patients (male=2084; female= 2338) with T2D who were ≥50. Based on lower extremity arterial ultrasound findings, we divided the patients into three groups: normal, mild, and moderateto-severe group. The factors related to LEAD in patients with T2D were analyzed by logistic regression analysis. The risk factors for moderate-to-severe LEAD included: high HbA1c (OR=1.07 95% CI 1.02–1.13), diabetic peripheral neuropathy (OR =1.93 95% CI 1.57–2.37), and diabetic retinopathy (OR =1.26 95%CI 1.01–1.57). The overall areas under the receiver operating characteristic curves for the nomograms for predicting the risks of LEAD and moderate-to-severe LEAD in adult T2D patients were 0.793 (95%CI 0.720, 0.824) and 0.736 (95%CI 0.678, 0.795), respectively. The developed nomograms are simple to use and enable preliminary visual prediction of the risk and degree of LEAD in Chinese T2D patients over 50 years. The nomograms are accurate to a certain degree and provide a clinical basis for predicting the occurrence and progression of LeAD."
   ]
  },
  {
   "cell_type": "markdown",
   "metadata": {},
   "source": [
    "#### Multicollinearity analysis\n",
    "\n",
    "In statistics, multicollinearity (also collinearity) is a phenomenon in which one predictor variable in a multiple regression model can be linearly predicted from the others with a substantial degree of accuracy\n",
    "\n",
    "Multicollinearity can be a problem in a regression model because we would not be able to distinguish between the individual effects of the independent variables on the dependent variable.\n",
    "\n",
    "**Variance Inflation Factor (VIF)**<br>\n",
    "VIF determines the strength of the correlation between the independent variables. It is predicted by taking a variable and regressing it against every other variable.\n",
    "\n",
    "or\n",
    "\n",
    "VIF score of an independent variable represents how well the variable is explained by other independent variables."
   ]
  },
  {
   "cell_type": "code",
   "execution_count": null,
   "metadata": {},
   "outputs": [],
   "source": []
  },
  {
   "cell_type": "code",
   "execution_count": null,
   "metadata": {},
   "outputs": [],
   "source": []
  },
  {
   "cell_type": "markdown",
   "metadata": {},
   "source": [
    "Regression analysis is a predictive modeling technique which investigates the relationship between dependent variable (target) and independent variable (predictor) variable."
   ]
  },
  {
   "cell_type": "code",
   "execution_count": null,
   "metadata": {},
   "outputs": [],
   "source": [
    "Indicates significant relationship between dependent variable (target) and independent variable (predictor) variable.\n",
    "\n",
    "Strenth of impact of multiple independent variable on a depended variable"
   ]
  },
  {
   "cell_type": "markdown",
   "metadata": {},
   "source": [
    "What Is a Variance Inflation Factor (VIF)?\n",
    "Variance inflation factor (VIF) is a measure of the amount of multicollinearity in a set of multiple regression variables. Mathematically, the VIF for a regression model variable is equal to the ratio of the overall model variance to the variance of a model that includes only that single independent variable. This ratio is calculated for each independent variable. A high VIF indicates that the associated independent variable is highly collinear with the other variables in the model."
   ]
  },
  {
   "cell_type": "markdown",
   "metadata": {},
   "source": [
    "Analysis of risk factors for LeAD and moderate-to-severe LeAD.\n",
    "Multicollinearity analysis was used for univariate logistic regression analysis of patients’ baseline characteristics (age, gender, diabetes duration, smoking, HbA1c, CHD, CBD, diabetic nephropathy, diabetic retinopathy, and diabetic neuropathy). No collinearity was identified among the factors, and the variance inflation factor (VIF) was <5 for all factors."
   ]
  },
  {
   "cell_type": "markdown",
   "metadata": {},
   "source": [
    "Multivariate logistic regression analysis was performed with LEAD as a dependent variable and baseline characteristics (age, gender, diabetic duration, smoking, HbA1c, CHD, CBD, diabetic nephropathy, diabetic retinopathy, and diabetic neuropathy) as independent variables. The risk factors for LEAD included: male gender\n",
    "(OR=1.87, 95CI% 1.57–2.29), advanced age (OR =1.02 95CI% 1.01–1.03), longer diabetic duration (OR =1.03\n",
    "95CI% 1.02–1.03), smoking (OR = 1.12 95CI% 1.07–1.19), higher HbA1c level (OR = 1.02 95CI% 1.01–1.03)\n",
    "CHD (OR = 1.38 95CI% 1.07–1.79), diabetic nephropathy (OR = 1.50 95CI% 1.20–1.88), diabetic neuropathy\n",
    "(OR = 2.10 95CI% 1.76–2.51), and diabetic retinopathy (OR = 2.64 95CI% 2.11–2.90). These data indicate associations with the risk of LEAD in patients with T2D after adjustment for BMI, blood pressure (BP), lipid levels,\n",
    "and eGFR (Table 2)"
   ]
  },
  {
   "cell_type": "code",
   "execution_count": null,
   "metadata": {},
   "outputs": [],
   "source": []
  },
  {
   "cell_type": "markdown",
   "metadata": {},
   "source": [
    "What is the Odds Ratio?\n",
    "An odds ratio (OR) is a measure of association between a certain property A and a second property B in a population. Specifically, it tells you how the presence or absence of property A has an effect on the presence or absence of property B. The OR is also used to figure out if a particular exposure (like eating processed meat) is a risk factor for a particular outcome (such as colon cancer), and to compare the various risk factors for that outcome. You could use the OR to find out how much alcohol use leads to liver disease. Or you might want to find out if cell phone use has some link to brain cancer. As long as you have two properties you think are linked, you can calculate the odds."
   ]
  },
  {
   "cell_type": "code",
   "execution_count": null,
   "metadata": {},
   "outputs": [],
   "source": []
  },
  {
   "cell_type": "code",
   "execution_count": 1,
   "metadata": {},
   "outputs": [
    {
     "name": "stdout",
     "output_type": "stream",
     "text": [
      "Collecting PyNomo\n",
      "  Downloading https://files.pythonhosted.org/packages/75/9a/c29e801c52bfa194598cdaa4860116ec215a575b33461d4b4ac0383f3fe2/PyNomo-0.3.3-py2.py3-none-any.whl (116kB)\n",
      "Installing collected packages: PyNomo\n",
      "Successfully installed PyNomo-0.3.3\n"
     ]
    }
   ],
   "source": [
    "!pip install PyNomo"
   ]
  }
 ],
 "metadata": {
  "kernelspec": {
   "display_name": "Python 3",
   "language": "python",
   "name": "python3"
  },
  "language_info": {
   "codemirror_mode": {
    "name": "ipython",
    "version": 3
   },
   "file_extension": ".py",
   "mimetype": "text/x-python",
   "name": "python",
   "nbconvert_exporter": "python",
   "pygments_lexer": "ipython3",
   "version": "3.7.4"
  }
 },
 "nbformat": 4,
 "nbformat_minor": 2
}
